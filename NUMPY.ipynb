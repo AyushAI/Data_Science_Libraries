{
 "cells": [
  {
   "cell_type": "markdown",
   "id": "9e3b5008",
   "metadata": {},
   "source": [
    "# Numpy Operations"
   ]
  },
  {
   "cell_type": "code",
   "execution_count": 4,
   "id": "ea012413",
   "metadata": {},
   "outputs": [],
   "source": [
    "# Numpy is the core library for scientific computing in python\n",
    "# To provides a high performance multidimensional array object and tools for working with these arrays"
   ]
  },
  {
   "cell_type": "code",
   "execution_count": 2,
   "id": "b9fbbb54",
   "metadata": {},
   "outputs": [],
   "source": [
    "# first install the numpy library using \"pip\" "
   ]
  },
  {
   "cell_type": "code",
   "execution_count": 3,
   "id": "097c2424",
   "metadata": {},
   "outputs": [
    {
     "name": "stdout",
     "output_type": "stream",
     "text": [
      "Requirement already satisfied: numpy in c:\\users\\ayush\\anaconda3\\lib\\site-packages (1.21.5)\n"
     ]
    }
   ],
   "source": [
    "!pip install numpy"
   ]
  },
  {
   "cell_type": "code",
   "execution_count": 5,
   "id": "0ce61cbe",
   "metadata": {},
   "outputs": [],
   "source": [
    "# now import the numpy giving alias as np"
   ]
  },
  {
   "cell_type": "code",
   "execution_count": 6,
   "id": "3f1ca672",
   "metadata": {},
   "outputs": [],
   "source": [
    "import numpy as np"
   ]
  },
  {
   "cell_type": "code",
   "execution_count": 7,
   "id": "0fc57325",
   "metadata": {},
   "outputs": [],
   "source": [
    "# array creation using numpy"
   ]
  },
  {
   "cell_type": "code",
   "execution_count": 8,
   "id": "85fa29a8",
   "metadata": {},
   "outputs": [],
   "source": [
    "np_arr1 = np.array([1,2,3,4,5,6,7,8,9,10])"
   ]
  },
  {
   "cell_type": "code",
   "execution_count": 10,
   "id": "2621e49b",
   "metadata": {},
   "outputs": [
    {
     "data": {
      "text/plain": [
       "array([ 1,  2,  3,  4,  5,  6,  7,  8,  9, 10])"
      ]
     },
     "execution_count": 10,
     "metadata": {},
     "output_type": "execute_result"
    }
   ],
   "source": [
    "np_arr1"
   ]
  },
  {
   "cell_type": "code",
   "execution_count": 11,
   "id": "09511e2b",
   "metadata": {},
   "outputs": [],
   "source": [
    "# Advantages of numpy over list"
   ]
  },
  {
   "cell_type": "code",
   "execution_count": 12,
   "id": "5f4919d1",
   "metadata": {},
   "outputs": [
    {
     "data": {
      "text/plain": [
       "'\\n1. Less memory\\n2. Fast\\n3. Convenient\\n'"
      ]
     },
     "execution_count": 12,
     "metadata": {},
     "output_type": "execute_result"
    }
   ],
   "source": [
    "'''\n",
    "1. Less memory\n",
    "2. Fast\n",
    "3. Convenient\n",
    "'''"
   ]
  },
  {
   "cell_type": "code",
   "execution_count": null,
   "id": "a1f12824",
   "metadata": {},
   "outputs": [],
   "source": []
  },
  {
   "cell_type": "code",
   "execution_count": 13,
   "id": "f6f17804",
   "metadata": {},
   "outputs": [],
   "source": [
    "# Now let's compare the space taken up by the numpy vs array"
   ]
  },
  {
   "cell_type": "code",
   "execution_count": 14,
   "id": "7fd59d37",
   "metadata": {},
   "outputs": [
    {
     "name": "stdout",
     "output_type": "stream",
     "text": [
      "48000\n",
      "4000\n"
     ]
    }
   ],
   "source": [
    "import time\n",
    "import sys\n",
    "\n",
    "s = range(1000)\n",
    "print(sys.getsizeof(s)*len(s))\n",
    "\n",
    "d = np.arange(1000)\n",
    "print(d.size*d.itemsize)"
   ]
  },
  {
   "cell_type": "code",
   "execution_count": 15,
   "id": "5c63c1b0",
   "metadata": {},
   "outputs": [],
   "source": [
    "# lets check the time taken by the array and numpy array"
   ]
  },
  {
   "cell_type": "code",
   "execution_count": 16,
   "id": "a34c8ac9",
   "metadata": {},
   "outputs": [
    {
     "name": "stdout",
     "output_type": "stream",
     "text": [
      "72.88360595703125\n",
      "6.982326507568359\n"
     ]
    }
   ],
   "source": [
    "SIZE = 100000\n",
    "\n",
    "L1 = range(SIZE)\n",
    "L2 = range(SIZE)\n",
    "\n",
    "A1 = np.arange(SIZE)\n",
    "A2 = np.arange(SIZE)\n",
    "\n",
    "start = time.time()\n",
    "result = [(x,y) for x,y in zip(L1,L2)]\n",
    "print((time.time()-start)*1000)\n",
    "\n",
    "\n",
    "start = time.time()\n",
    "result = A1 +A2\n",
    "print((time.time()-start)*1000)"
   ]
  },
  {
   "cell_type": "code",
   "execution_count": 17,
   "id": "3d055d4f",
   "metadata": {},
   "outputs": [],
   "source": [
    "# Numpy Operations\n",
    "\n",
    "# Find the dimension of the array\n",
    "# Find the byte size of each element\n",
    "# Find the data type of the elements"
   ]
  },
  {
   "cell_type": "code",
   "execution_count": 18,
   "id": "c42ca5ce",
   "metadata": {},
   "outputs": [
    {
     "data": {
      "text/plain": [
       "array([ 1,  2,  3,  4,  5,  6,  7,  8,  9, 10])"
      ]
     },
     "execution_count": 18,
     "metadata": {},
     "output_type": "execute_result"
    }
   ],
   "source": [
    "np_arr1"
   ]
  },
  {
   "cell_type": "code",
   "execution_count": 28,
   "id": "8d900eae",
   "metadata": {},
   "outputs": [],
   "source": [
    "# ndim : Number of array dimensions."
   ]
  },
  {
   "cell_type": "code",
   "execution_count": 20,
   "id": "c00e4e83",
   "metadata": {},
   "outputs": [
    {
     "name": "stdout",
     "output_type": "stream",
     "text": [
      "1\n"
     ]
    }
   ],
   "source": [
    "print(np_arr1.ndim)"
   ]
  },
  {
   "cell_type": "code",
   "execution_count": 23,
   "id": "9a3109c1",
   "metadata": {},
   "outputs": [],
   "source": [
    "np_arr2 = np.array(\n",
    "[[1,2,3,4],[5,6,7,11],[8,9,10,12]])"
   ]
  },
  {
   "cell_type": "code",
   "execution_count": 24,
   "id": "0e8ef023",
   "metadata": {},
   "outputs": [
    {
     "data": {
      "text/plain": [
       "array([[ 1,  2,  3,  4],\n",
       "       [ 5,  6,  7, 11],\n",
       "       [ 8,  9, 10, 12]])"
      ]
     },
     "execution_count": 24,
     "metadata": {},
     "output_type": "execute_result"
    }
   ],
   "source": [
    "np_arr2"
   ]
  },
  {
   "cell_type": "code",
   "execution_count": 25,
   "id": "8ed7d25c",
   "metadata": {},
   "outputs": [
    {
     "name": "stdout",
     "output_type": "stream",
     "text": [
      "2\n"
     ]
    }
   ],
   "source": [
    "print(np_arr2.ndim)"
   ]
  },
  {
   "cell_type": "code",
   "execution_count": 27,
   "id": "bcaa57ef",
   "metadata": {},
   "outputs": [],
   "source": [
    "# itemsize : Length of one array element in bytes."
   ]
  },
  {
   "cell_type": "code",
   "execution_count": 26,
   "id": "8c087230",
   "metadata": {},
   "outputs": [
    {
     "data": {
      "text/plain": [
       "4"
      ]
     },
     "execution_count": 26,
     "metadata": {},
     "output_type": "execute_result"
    }
   ],
   "source": [
    "np_arr1.itemsize"
   ]
  },
  {
   "cell_type": "code",
   "execution_count": 30,
   "id": "acc37dd6",
   "metadata": {},
   "outputs": [
    {
     "data": {
      "text/plain": [
       "4"
      ]
     },
     "execution_count": 30,
     "metadata": {},
     "output_type": "execute_result"
    }
   ],
   "source": [
    "np_arr2.itemsize"
   ]
  },
  {
   "cell_type": "code",
   "execution_count": 29,
   "id": "6571dae0",
   "metadata": {},
   "outputs": [],
   "source": [
    "# dtype : Data-type of the array’s elements."
   ]
  },
  {
   "cell_type": "code",
   "execution_count": 31,
   "id": "e12c10a4",
   "metadata": {},
   "outputs": [
    {
     "data": {
      "text/plain": [
       "dtype('int32')"
      ]
     },
     "execution_count": 31,
     "metadata": {},
     "output_type": "execute_result"
    }
   ],
   "source": [
    "np_arr1.dtype"
   ]
  },
  {
   "cell_type": "code",
   "execution_count": 32,
   "id": "88388ba9",
   "metadata": {},
   "outputs": [
    {
     "data": {
      "text/plain": [
       "dtype('int32')"
      ]
     },
     "execution_count": 32,
     "metadata": {},
     "output_type": "execute_result"
    }
   ],
   "source": [
    "np_arr2.dtype"
   ]
  },
  {
   "cell_type": "code",
   "execution_count": 33,
   "id": "49b3ce8c",
   "metadata": {},
   "outputs": [],
   "source": [
    "# size : Number of elements in the array."
   ]
  },
  {
   "cell_type": "code",
   "execution_count": 34,
   "id": "093b8d11",
   "metadata": {},
   "outputs": [
    {
     "data": {
      "text/plain": [
       "10"
      ]
     },
     "execution_count": 34,
     "metadata": {},
     "output_type": "execute_result"
    }
   ],
   "source": [
    "np_arr1.size"
   ]
  },
  {
   "cell_type": "code",
   "execution_count": 35,
   "id": "c9fa322c",
   "metadata": {},
   "outputs": [
    {
     "data": {
      "text/plain": [
       "12"
      ]
     },
     "execution_count": 35,
     "metadata": {},
     "output_type": "execute_result"
    }
   ],
   "source": [
    "np_arr2.size"
   ]
  },
  {
   "cell_type": "code",
   "execution_count": 36,
   "id": "7dbbefe9",
   "metadata": {},
   "outputs": [
    {
     "data": {
      "text/plain": [
       "'\\nThe shape property is usually used to get the current shape of an array, \\nbut may also be used to reshape the array in-place by assigning a tuple of array dimensions to it. \\nAs with numpy.reshape, one of the new shape dimensions can be -1, \\nin which case its value is inferred from the size of the array and the remaining dimensions.\\nReshaping an array in-place will fail if a copy is required.\\n'"
      ]
     },
     "execution_count": 36,
     "metadata": {},
     "output_type": "execute_result"
    }
   ],
   "source": [
    "# shape : Tuple of array dimensions.\n",
    "'''\n",
    "The shape property is usually used to get the current shape of an array, \n",
    "but may also be used to reshape the array in-place by assigning a tuple of array dimensions to it. \n",
    "As with numpy.reshape, one of the new shape dimensions can be -1, \n",
    "in which case its value is inferred from the size of the array and the remaining dimensions.\n",
    "Reshaping an array in-place will fail if a copy is required.\n",
    "'''\n"
   ]
  },
  {
   "cell_type": "code",
   "execution_count": 37,
   "id": "93bb2567",
   "metadata": {},
   "outputs": [
    {
     "data": {
      "text/plain": [
       "(10,)"
      ]
     },
     "execution_count": 37,
     "metadata": {},
     "output_type": "execute_result"
    }
   ],
   "source": [
    "np_arr1.shape"
   ]
  },
  {
   "cell_type": "code",
   "execution_count": 38,
   "id": "b768a9db",
   "metadata": {},
   "outputs": [
    {
     "data": {
      "text/plain": [
       "(3, 4)"
      ]
     },
     "execution_count": 38,
     "metadata": {},
     "output_type": "execute_result"
    }
   ],
   "source": [
    "np_arr2.shape"
   ]
  },
  {
   "cell_type": "code",
   "execution_count": 39,
   "id": "2d23eaa5",
   "metadata": {},
   "outputs": [
    {
     "data": {
      "text/plain": [
       "'\\nndarray.resize(new_shape, refcheck=True)\\nChange shape and size of array in-place.\\n'"
      ]
     },
     "execution_count": 39,
     "metadata": {},
     "output_type": "execute_result"
    }
   ],
   "source": [
    "#  reshaping the array\n",
    "'''\n",
    "ndarray.resize(new_shape, refcheck=True)\n",
    "Change shape and size of array in-place.\n",
    "'''"
   ]
  },
  {
   "cell_type": "code",
   "execution_count": 40,
   "id": "ab9bc8aa",
   "metadata": {},
   "outputs": [],
   "source": [
    "a = np.array([(1,2,3,4),(5,6,7,8),(9,10,11,12)])"
   ]
  },
  {
   "cell_type": "code",
   "execution_count": 41,
   "id": "d7e0d033",
   "metadata": {},
   "outputs": [
    {
     "data": {
      "text/plain": [
       "array([[ 1,  2,  3,  4],\n",
       "       [ 5,  6,  7,  8],\n",
       "       [ 9, 10, 11, 12]])"
      ]
     },
     "execution_count": 41,
     "metadata": {},
     "output_type": "execute_result"
    }
   ],
   "source": [
    "a"
   ]
  },
  {
   "cell_type": "code",
   "execution_count": 43,
   "id": "e98a4d8c",
   "metadata": {},
   "outputs": [],
   "source": [
    "a = a.reshape(4,3)"
   ]
  },
  {
   "cell_type": "code",
   "execution_count": 44,
   "id": "cf9dd762",
   "metadata": {},
   "outputs": [
    {
     "data": {
      "text/plain": [
       "array([[ 1,  2,  3],\n",
       "       [ 4,  5,  6],\n",
       "       [ 7,  8,  9],\n",
       "       [10, 11, 12]])"
      ]
     },
     "execution_count": 44,
     "metadata": {},
     "output_type": "execute_result"
    }
   ],
   "source": [
    "a"
   ]
  },
  {
   "cell_type": "code",
   "execution_count": 45,
   "id": "23e7b018",
   "metadata": {},
   "outputs": [],
   "source": [
    "# Slicing in numpy array"
   ]
  },
  {
   "cell_type": "code",
   "execution_count": 46,
   "id": "077744be",
   "metadata": {},
   "outputs": [
    {
     "data": {
      "text/plain": [
       "array([[ 1,  2,  3],\n",
       "       [ 4,  5,  6],\n",
       "       [ 7,  8,  9],\n",
       "       [10, 11, 12]])"
      ]
     },
     "execution_count": 46,
     "metadata": {},
     "output_type": "execute_result"
    }
   ],
   "source": [
    "a"
   ]
  },
  {
   "cell_type": "code",
   "execution_count": 48,
   "id": "556feee8",
   "metadata": {},
   "outputs": [
    {
     "name": "stdout",
     "output_type": "stream",
     "text": [
      "[ 1  4  7 10]\n"
     ]
    }
   ],
   "source": [
    "print(a[:,0]) # for printing the first coloum"
   ]
  },
  {
   "cell_type": "code",
   "execution_count": 50,
   "id": "468c997c",
   "metadata": {},
   "outputs": [
    {
     "name": "stdout",
     "output_type": "stream",
     "text": [
      "[1 2 3]\n"
     ]
    }
   ],
   "source": [
    "print(a[0,:]) # for printing the first row"
   ]
  },
  {
   "cell_type": "code",
   "execution_count": 63,
   "id": "2a63ebde",
   "metadata": {},
   "outputs": [
    {
     "name": "stdout",
     "output_type": "stream",
     "text": [
      "[[ 8  9]\n",
      " [11 12]]\n"
     ]
    }
   ],
   "source": [
    "print(a[2:,1:])"
   ]
  },
  {
   "cell_type": "code",
   "execution_count": 62,
   "id": "3fb1312d",
   "metadata": {},
   "outputs": [
    {
     "name": "stdout",
     "output_type": "stream",
     "text": [
      "[[ 7  8  9]\n",
      " [10 11 12]]\n"
     ]
    }
   ],
   "source": [
    "print(a[2:,:])"
   ]
  },
  {
   "cell_type": "code",
   "execution_count": 61,
   "id": "6a4ea47d",
   "metadata": {},
   "outputs": [
    {
     "name": "stdout",
     "output_type": "stream",
     "text": [
      "[[2 3]\n",
      " [5 6]\n",
      " [8 9]]\n"
     ]
    }
   ],
   "source": [
    "print(a[0:3,1:])"
   ]
  },
  {
   "cell_type": "code",
   "execution_count": 59,
   "id": "66c5106c",
   "metadata": {},
   "outputs": [
    {
     "name": "stdout",
     "output_type": "stream",
     "text": [
      "[[1 2 3]\n",
      " [4 5 6]\n",
      " [7 8 9]]\n"
     ]
    }
   ],
   "source": [
    "print(a[0:3,:])"
   ]
  },
  {
   "cell_type": "code",
   "execution_count": 58,
   "id": "0702bc4d",
   "metadata": {},
   "outputs": [
    {
     "name": "stdout",
     "output_type": "stream",
     "text": [
      "[[1 2]\n",
      " [4 5]\n",
      " [7 8]]\n"
     ]
    }
   ],
   "source": [
    "print(a[0:3,0:2])"
   ]
  },
  {
   "cell_type": "code",
   "execution_count": 53,
   "id": "f8fd464f",
   "metadata": {},
   "outputs": [
    {
     "name": "stdout",
     "output_type": "stream",
     "text": [
      "[[ 2]\n",
      " [ 5]\n",
      " [ 8]\n",
      " [11]]\n"
     ]
    }
   ],
   "source": [
    "print(a[:,1:2])"
   ]
  },
  {
   "cell_type": "code",
   "execution_count": 54,
   "id": "ea307bf2",
   "metadata": {},
   "outputs": [
    {
     "name": "stdout",
     "output_type": "stream",
     "text": [
      "[4 5 6]\n"
     ]
    }
   ],
   "source": [
    "print(a[1,:])"
   ]
  },
  {
   "cell_type": "code",
   "execution_count": 55,
   "id": "c4820a7e",
   "metadata": {},
   "outputs": [
    {
     "name": "stdout",
     "output_type": "stream",
     "text": [
      "[ 3  6  9 12]\n"
     ]
    }
   ],
   "source": [
    "print(a[:,2])"
   ]
  },
  {
   "cell_type": "code",
   "execution_count": 56,
   "id": "f0c44813",
   "metadata": {},
   "outputs": [
    {
     "name": "stdout",
     "output_type": "stream",
     "text": [
      "[10 11 12]\n"
     ]
    }
   ],
   "source": [
    "print(a[3,:])"
   ]
  },
  {
   "cell_type": "code",
   "execution_count": 65,
   "id": "00ea5118",
   "metadata": {},
   "outputs": [
    {
     "data": {
      "text/plain": [
       "'\\nReturn evenly spaced numbers over a specified interval.\\n\\nReturns num evenly spaced samples, calculated over the interval [start, stop].\\n\\nThe endpoint of the interval can optionally be excluded.\\n'"
      ]
     },
     "execution_count": 65,
     "metadata": {},
     "output_type": "execute_result"
    }
   ],
   "source": [
    "# linspace : numpy.linspace(start, stop, num=50, endpoint=True, retstep=False, dtype=None, axis=0)\n",
    "'''\n",
    "Return evenly spaced numbers over a specified interval.\n",
    "\n",
    "Returns num evenly spaced samples, calculated over the interval [start, stop].\n",
    "\n",
    "The endpoint of the interval can optionally be excluded.\n",
    "'''"
   ]
  },
  {
   "cell_type": "code",
   "execution_count": 66,
   "id": "29d02d0d",
   "metadata": {},
   "outputs": [],
   "source": [
    "a = np.linspace(10,100,10)"
   ]
  },
  {
   "cell_type": "code",
   "execution_count": 67,
   "id": "0c037179",
   "metadata": {},
   "outputs": [
    {
     "data": {
      "text/plain": [
       "array([ 10.,  20.,  30.,  40.,  50.,  60.,  70.,  80.,  90., 100.])"
      ]
     },
     "execution_count": 67,
     "metadata": {},
     "output_type": "execute_result"
    }
   ],
   "source": [
    "a"
   ]
  },
  {
   "cell_type": "code",
   "execution_count": 68,
   "id": "1003680a",
   "metadata": {},
   "outputs": [],
   "source": [
    "b = np.linspace(50,100,10)"
   ]
  },
  {
   "cell_type": "code",
   "execution_count": 69,
   "id": "a7663f98",
   "metadata": {},
   "outputs": [
    {
     "data": {
      "text/plain": [
       "array([ 50.        ,  55.55555556,  61.11111111,  66.66666667,\n",
       "        72.22222222,  77.77777778,  83.33333333,  88.88888889,\n",
       "        94.44444444, 100.        ])"
      ]
     },
     "execution_count": 69,
     "metadata": {},
     "output_type": "execute_result"
    }
   ],
   "source": [
    "b"
   ]
  },
  {
   "cell_type": "code",
   "execution_count": 78,
   "id": "edd83852",
   "metadata": {},
   "outputs": [],
   "source": [
    "# max : char.chararray.max(axis=None, out=None, keepdims=False, initial=<no value>, where=True)\n",
    "#       Return the maximum along a given axis."
   ]
  },
  {
   "cell_type": "code",
   "execution_count": 71,
   "id": "3a71a69b",
   "metadata": {},
   "outputs": [],
   "source": [
    "arr = np.array([1,2,3,4,5])"
   ]
  },
  {
   "cell_type": "code",
   "execution_count": 74,
   "id": "05be391d",
   "metadata": {},
   "outputs": [
    {
     "data": {
      "text/plain": [
       "5"
      ]
     },
     "execution_count": 74,
     "metadata": {},
     "output_type": "execute_result"
    }
   ],
   "source": [
    "arr.max()"
   ]
  },
  {
   "cell_type": "code",
   "execution_count": 77,
   "id": "570a9bbe",
   "metadata": {},
   "outputs": [],
   "source": [
    "# min : ndarray.min(axis=None, out=None, keepdims=False, initial=<no value>, where=True)\n",
    "#        Return the minimum along a given axis."
   ]
  },
  {
   "cell_type": "code",
   "execution_count": 75,
   "id": "2d22ea94",
   "metadata": {},
   "outputs": [
    {
     "data": {
      "text/plain": [
       "1"
      ]
     },
     "execution_count": 75,
     "metadata": {},
     "output_type": "execute_result"
    }
   ],
   "source": [
    "arr.min()"
   ]
  },
  {
   "cell_type": "code",
   "execution_count": 79,
   "id": "691b394a",
   "metadata": {},
   "outputs": [],
   "source": [
    "# sum : ndarray.sum(axis=None, dtype=None, out=None, keepdims=False, initial=0, where=True)\n",
    "#        Return the sum of the array elements over the given axis."
   ]
  },
  {
   "cell_type": "code",
   "execution_count": 76,
   "id": "1cf31299",
   "metadata": {},
   "outputs": [
    {
     "data": {
      "text/plain": [
       "15"
      ]
     },
     "execution_count": 76,
     "metadata": {},
     "output_type": "execute_result"
    }
   ],
   "source": [
    "arr.sum()"
   ]
  }
 ],
 "metadata": {
  "kernelspec": {
   "display_name": "Python 3 (ipykernel)",
   "language": "python",
   "name": "python3"
  },
  "language_info": {
   "codemirror_mode": {
    "name": "ipython",
    "version": 3
   },
   "file_extension": ".py",
   "mimetype": "text/x-python",
   "name": "python",
   "nbconvert_exporter": "python",
   "pygments_lexer": "ipython3",
   "version": "3.9.13"
  }
 },
 "nbformat": 4,
 "nbformat_minor": 5
}
